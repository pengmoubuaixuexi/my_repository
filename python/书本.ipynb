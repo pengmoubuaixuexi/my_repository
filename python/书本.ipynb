{
 "cells": [
  {
   "cell_type": "code",
   "execution_count": 1,
   "id": "4c4bf00a",
   "metadata": {},
   "outputs": [],
   "source": [
    "import turtle as t\n",
    "import math\n",
    "t.pensize(2)\n",
    "t.right(90)\n",
    "t.penup()\n",
    "t.forward(200)\n",
    "t.pendown()\n",
    "t.left(90)\n",
    "r=200\n",
    "t.circle(r)\n",
    "len = r*math.sqrt(3)\n",
    "t.left(60)\n",
    "t.forward(len)\n",
    "t.left(120)\n",
    "t.forward(len)\n",
    "t.left(120)\n",
    "t.forward(len)"
   ]
  },
  {
   "cell_type": "code",
   "execution_count": 3,
   "id": "0b5cb6ff",
   "metadata": {},
   "outputs": [
    {
     "name": "stdout",
     "output_type": "stream",
     "text": [
      "3\n"
     ]
    }
   ],
   "source": [
    "print(3)"
   ]
  },
  {
   "cell_type": "code",
   "execution_count": null,
   "id": "6e669362",
   "metadata": {},
   "outputs": [],
   "source": []
  }
 ],
 "metadata": {
  "kernelspec": {
   "display_name": "Python 3 (ipykernel)",
   "language": "python",
   "name": "python3"
  },
  "language_info": {
   "codemirror_mode": {
    "name": "ipython",
    "version": 3
   },
   "file_extension": ".py",
   "mimetype": "text/x-python",
   "name": "python",
   "nbconvert_exporter": "python",
   "pygments_lexer": "ipython3",
   "version": "3.7.9"
  }
 },
 "nbformat": 4,
 "nbformat_minor": 5
}
