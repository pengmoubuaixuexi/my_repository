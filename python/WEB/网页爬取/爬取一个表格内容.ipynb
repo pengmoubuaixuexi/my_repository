{
 "cells": [
  {
   "cell_type": "code",
   "execution_count": 2,
   "id": "bfe1d072",
   "metadata": {},
   "outputs": [
    {
     "name": "stdout",
     "output_type": "stream",
     "text": [
      "      排名           学校名称          评估结果     \n",
      "      1            北京大学           A+      \n",
      "      2            清华大学           A+      \n",
      "      3            浙江大学           A+      \n",
      "      4           国防科技大学          A+      \n",
      "      5          北京航空航天大学         A       \n",
      "      6           北京邮电大学          A       \n",
      "      7          哈尔滨工业大学          A       \n",
      "      8           上海交通大学          A       \n",
      "      9            南京大学           A       \n"
     ]
    }
   ],
   "source": [
    "from requests_html import HTMLSession\n",
    "session = HTMLSession()\n",
    "url = \"https://www.dxsbb.com/news/7566.html\"\n",
    "r = session.get(url)\n",
    "table = r.html.find(\"tbody>tr\")\n",
    "for i in range(10):\n",
    "    l=table[i].text.split()\n",
    "    s=''\n",
    "    for j in l:\n",
    "        s=s+\"{0:^14}\".format(j)\n",
    "    print(s)"
   ]
  },
  {
   "cell_type": "code",
   "execution_count": null,
   "id": "56e533b1",
   "metadata": {},
   "outputs": [],
   "source": []
  }
 ],
 "metadata": {
  "kernelspec": {
   "display_name": "Python 3 (ipykernel)",
   "language": "python",
   "name": "python3"
  },
  "language_info": {
   "codemirror_mode": {
    "name": "ipython",
    "version": 3
   },
   "file_extension": ".py",
   "mimetype": "text/x-python",
   "name": "python",
   "nbconvert_exporter": "python",
   "pygments_lexer": "ipython3",
   "version": "3.7.9"
  }
 },
 "nbformat": 4,
 "nbformat_minor": 5
}
