{
 "cells": [
  {
   "cell_type": "markdown",
   "id": "76e61fe3",
   "metadata": {},
   "source": [
    "# <html>\n",
    "<body bgcolor = \"#eeeeee\">\n",
    "    <style>\n",
    "        .css1 {background-color :yellow;color:green;font-style:italic;}\n",
    "    </style>\n",
    "    <h1 align = \"center\">这里是标题行</h1>\n",
    "    <p name = \"段落一\" class = \"css1\">这里是段落一</p>\n",
    "    <p name = \"段落二\" class = \"css1\">这里是段落二</p>\n",
    "    \n",
    "    <img src=\"http://www.baidu.com.com/img/bd logo1.png\" style = \"width:200px;height :100px\"></img>\n",
    "    <a id = \"link\" href = \"http://baidu.com\">点我跳去百度</a>\n",
    "</body>\n",
    "</html>"
   ]
  },
  {
   "cell_type": "code",
   "execution_count": null,
   "id": "fa4f3f64",
   "metadata": {},
   "outputs": [],
   "source": []
  }
 ],
 "metadata": {
  "kernelspec": {
   "display_name": "Python 3",
   "language": "python",
   "name": "python3"
  },
  "language_info": {
   "codemirror_mode": {
    "name": "ipython",
    "version": 3
   },
   "file_extension": ".py",
   "mimetype": "text/x-python",
   "name": "python",
   "nbconvert_exporter": "python",
   "pygments_lexer": "ipython3",
   "version": "3.8.8"
  }
 },
 "nbformat": 4,
 "nbformat_minor": 5
}
