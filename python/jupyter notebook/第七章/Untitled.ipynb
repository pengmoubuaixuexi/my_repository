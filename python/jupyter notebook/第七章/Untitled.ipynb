{
 "cells": [
  {
   "cell_type": "code",
   "execution_count": 9,
   "id": "50d9580e",
   "metadata": {},
   "outputs": [
    {
     "name": "stdout",
     "output_type": "stream",
     "text": [
      "[('of', 1429), ('was', 1084), ('his', 992), ('said', 991), ('in', 864), ('Harry', 690), ('had', 587), ('at', 585), ('you', 535), ('it', 527), ('that', 506), ('as', 491), ('on', 472), ('I', 448), ('with', 408), ('for', 350), ('Ron', 325), ('out', 293), ('were', 277), ('all', 275)]\n"
     ]
    }
   ],
   "source": [
    "try:\n",
    "    with open(\"哈利波特.txt\",\"r\") as data:\n",
    "        data = str(data.readlines())\n",
    "        a={}\n",
    "        data = data.strip(\"\\n\")\n",
    "        data = data.split()\n",
    "        for i in data:\n",
    "            a[i] = a.get(i,0)+1\n",
    "        for j in [\"to\",\"he\",\"him\",\"and\",\"be\",\"the\",\"a\",\"'\\\\n',\",'-','-\"\\\\n\\',']:\n",
    "            del a[j]\n",
    "        a=sorted(a.items(), key = lambda x: (-x[1],x[0]))\n",
    "        print(a[:20])\n",
    "except IOError:\n",
    "    print(\"打开文件出错\\n\")\n",
    "else:\n",
    "    try:\n",
    "        with open (\"哈利波特词汇统计.txt\",\"w\") as data1:\n",
    "            data1.writelines(n +\"出现了\"+str(m) +\"次\\n\" for n,m in a)\n",
    "    except IOError:\n",
    "        print(\"文件创建出错\")"
   ]
  },
  {
   "cell_type": "code",
   "execution_count": null,
   "id": "0ff9bb49",
   "metadata": {},
   "outputs": [],
   "source": []
  }
 ],
 "metadata": {
  "kernelspec": {
   "display_name": "Python 3",
   "language": "python",
   "name": "python3"
  },
  "language_info": {
   "codemirror_mode": {
    "name": "ipython",
    "version": 3
   },
   "file_extension": ".py",
   "mimetype": "text/x-python",
   "name": "python",
   "nbconvert_exporter": "python",
   "pygments_lexer": "ipython3",
   "version": "3.8.8"
  }
 },
 "nbformat": 4,
 "nbformat_minor": 5
}
