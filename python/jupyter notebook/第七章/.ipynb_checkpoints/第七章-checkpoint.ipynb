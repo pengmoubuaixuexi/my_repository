{
 "cells": [
  {
   "cell_type": "code",
   "execution_count": 5,
   "id": "c0111495",
   "metadata": {},
   "outputs": [
    {
     "data": {
      "text/plain": [
       "'F:\\\\我\\\\python\\\\jupyter notebook'"
      ]
     },
     "execution_count": 5,
     "metadata": {},
     "output_type": "execute_result"
    }
   ],
   "source": [
    "import os\n",
    "os.getcwd()"
   ]
  },
  {
   "cell_type": "code",
   "execution_count": 27,
   "id": "c0fae601",
   "metadata": {},
   "outputs": [
    {
     "name": "stdout",
     "output_type": "stream",
     "text": [
      "彭某涛测试专用1\n",
      "彭某涛测试专用2\n",
      "彭某涛测试专用3\n",
      "彭某涛测试专用4\n",
      "\n",
      "\n"
     ]
    }
   ],
   "source": [
    "data= open(\"彭某涛.txt\",\"r\")\n",
    "txt=data.read()\n",
    "print(txt)\n",
    "data.close()"
   ]
  },
  {
   "cell_type": "code",
   "execution_count": 29,
   "id": "282351d8",
   "metadata": {},
   "outputs": [
    {
     "name": "stdout",
     "output_type": "stream",
     "text": [
      "['彭某涛测试专用1\\n', '彭某涛测试专用2\\n', '彭某涛测试专用3\\n', '彭某涛测试专用4\\n', '\\n']\n"
     ]
    }
   ],
   "source": [
    "with open(\"彭某涛.txt\",\"r\") as data:\n",
    "    print(data.readlines())"
   ]
  },
  {
   "cell_type": "code",
   "execution_count": 45,
   "id": "c3aa1a96",
   "metadata": {},
   "outputs": [],
   "source": [
    "import csv\n",
    "with open(\"彭某涛1.csv\",\"w\",newline = '') as data:\n",
    "    csv.writer(data).writerow([[\"唐玉杰\",'0201087'],\"\\n\",[\"彭涛\",\"0201086\"]])"
   ]
  },
  {
   "cell_type": "code",
   "execution_count": 40,
   "id": "ec6f272f",
   "metadata": {},
   "outputs": [
    {
     "name": "stdout",
     "output_type": "stream",
     "text": [
      "['彭涛，0201086']\n",
      "['黄河晓，0201085']\n",
      "['王健，0201087']\n"
     ]
    }
   ],
   "source": [
    "import csv\n",
    "with open (\"彭某涛.csv\",\"r\") as data:\n",
    "    reader = csv.reader(data)\n",
    "    for i in reader:\n",
    "        print(i)"
   ]
  },
  {
   "cell_type": "code",
   "execution_count": 30,
   "id": "2f1cf935",
   "metadata": {},
   "outputs": [
    {
     "name": "stdout",
     "output_type": "stream",
     "text": [
      "['彭涛，0201086']\n",
      "['黄河晓，0201085']\n",
      "['王健，0201087']\n",
      "fuck\n"
     ]
    }
   ],
   "source": [
    "import csv\n",
    "try:\n",
    "    with open(\"彭某涛.csv\",\"r\") as data:\n",
    "        reader = csv.reader(data)\n",
    "        for i in reader:\n",
    "            print(i)\n",
    "except IOError:\n",
    "    print(\"没有这个文件\")\n",
    "else:\n",
    "    print(\"fuck\")"
   ]
  },
  {
   "cell_type": "code",
   "execution_count": 48,
   "id": "56ddfc62",
   "metadata": {},
   "outputs": [
    {
     "name": "stdout",
     "output_type": "stream",
     "text": [
      "[('the', 3759), ('was', 1244), ('his', 1111), ('Harry', 1068), ('said', 1047), ('in', 956), ('had', 669), ('at', 645), ('you', 594), ('that', 567)]\n",
      "the出现了3759次\n",
      "was出现了1244次\n",
      "his出现了1111次\n",
      "Harry出现了1068次\n",
      "said出现了1047次\n",
      "in出现了956次\n",
      "had出现了669次\n",
      "at出现了645次\n",
      "you出现了594次\n",
      "that出现了567次\n"
     ]
    }
   ],
   "source": [
    "def changetxt(txt):\n",
    "    for i in \",.:?-:\\'\":\n",
    "        txt.replace(i,\" \")\n",
    "    return txt\n",
    "def count(txt,num):\n",
    "    txt=txt.split()\n",
    "    b={}\n",
    "    for i in txt:\n",
    "        b[i]=b.get(i,0)+1\n",
    "    for i in [\"he\",\"and\",\"to\",\"of\",\"a\",\"be\",\"it\",\"is\",\"not\",\"but\"]:\n",
    "        del b[i]\n",
    "    b=sorted(b.items(),key=lambda x:(-x[1],x[0]))\n",
    "    return b[:num]\n",
    "try:\n",
    "    with open (\"哈利波特.txt\",\"r\") as data:\n",
    "        data = data.read()\n",
    "        data = changetxt(data)\n",
    "        data = count(data,10)\n",
    "        print(data)\n",
    "        for i in range(len(data)):\n",
    "            print(\"{}出现了{}次\".format(data[i][0],data[i][1]))\n",
    "except IOError:\n",
    "    print(\"文件打开出错\")\n",
    "else:\n",
    "    with open (\"频率.txt\",\"w\") as data1:\n",
    "        data1.writelines([word + \"\\t出现了\" + str(i) + \"次\\n\" for word,i in data])"
   ]
  },
  {
   "cell_type": "code",
   "execution_count": 41,
   "id": "a5030f54",
   "metadata": {},
   "outputs": [
    {
     "name": "stdout",
     "output_type": "stream",
     "text": [
      "<_csv.reader object at 0x0000009853A34AC0>\n",
      "['青铃铛，摇不响，看看口水淌，尝尝酸牙床。', '身穿梅花袍，头上顶双角，窜山又越岭，全身都是宝。', '叫猫不抓鼠，像熊爱吃竹。摇摆惹人爱，是猫还是熊？', '小时嫩又绿，大了有骨气，身体节节高，头上顶火炬。', '进洞像龙，出洞像凤。凤生百子，百子成龙。', '两眼如灯盏，一尾如只钉。半天云里过，湖面过光阴。', '绿盖红缸，里头装满蜜浆。', '白嫩小宝宝，洗澡吹泡泡，洗洗身体小，再洗不见了。', '颜色白如雪，身子硬如铁，一日洗三遍，夜晚柜中歇。', '一双玉燕靠地飞，早上出门夜里归。', '娘子娘子，身似盒子。麒麟剪刀，八个钗子。 ', '两只小口袋，天天随身带，要是少一只，就把人笑坏。', '身长约一丈，鼻生头顶上。背黑肚皮白，安家在海洋。', '远看玛瑙紫溜溜，近看珍珠圆溜溜，掐它一把水溜溜，咬它一口酸溜溜。', '薄薄一张纸，四边生长细牙齿，两地朋友要谈心，必须请他当差使。', '穿件绿衣，浑身是刺，不怕干旱，就怕水渍。', '一天过去，脱件衣裳，一年过去，全身脱光。', '一条白虫泥里钻，头顶一把大绿伞，身子分了好几节，肚里长满窟窿眼。', '四四方方，又白又光，姑娘请他，清洁衣裳。', '千姊妹，万姊妹，同床睡，各盖被。', '不长枝来不生杈，叶子顶上开白花，脑袋睡在地底下，胡子长了一大把。', '远看红脸好相貌，近看一脸红疙瘩，虽说样儿小又小，为人解渴本领大。', '青黄袄，宝银条，弯弯两头翘，吃着好味道。', '粉脸红唇模样美，偏偏是个大歪嘴。', '红果子，麻点子，咬一口，甜丝丝。', '脱衣服，它穿衣服，人脱帽子，它戴帽子。', '个子大，橄榄形，果皮有黄也有青，上面印着小网纹，吃到嘴里笑吟吟。', '你坐我不坐，我行你不行。你睡躺得平，我睡站到明。', '小时能吃味道鲜，老来能用有人砍，虽说不是刚和铁，浑身骨节压不弯。', '鼻子像钩子，耳朵像扇子。大腿像柱子，尾巴像鞭子。', '看看圆，摸摸麻，包着一肚小月牙。', '一间屋，叁个门，里面只住半个人。', '尖尖长嘴，细细小腿。拖条大尾，疑神疑鬼。 ', '黄金布，包银条，中间弯弯两头翘。', '好像柿子没有盖，好像苹果逗人爱，味道酸甜营养多，能当水果能做菜。', '有根不落地，有叶不开花，都说它是菜，菜园不种它。', '小时像逗号，在水中玩耍。长大跳得高，是捉虫冠军。', '绿枕头，当中空，包的棉絮蓬松松。', '脱了红袍子，是个白胖子，去了白胖子，吃到嘴里笑吟吟。剩个黑圆子。', '有面没有口，有脚没有手，虽有四只脚，自己不会走。']\n"
     ]
    }
   ],
   "source": [
    "import csv\n",
    "import random\n",
    "try:\n",
    "    with open(\"7_4儿童谜语集.csv\",\"r\") as data:\n",
    "        reader = csv.reader(data)\n",
    "        a={}\n",
    "        b=[]\n",
    "        for i,j in reader:\n",
    "            if i != \"谜面\":\n",
    "                a[i]=j\n",
    "                b.append(i)\n",
    "        random.shuffle(b)\n",
    "        print(b)\n",
    "    with open (\"试卷.txt\",\"w\") as data1:\n",
    "        data1.writelines([ i + \"\\n\" for i in b[:10]])\n",
    "    with open (\"答案.txt\",\"w\") as data2:\n",
    "        data2.writelines([i + \"\\n\\t\\t\\t\\t\\t\\t\\t\\t\" + a[i] +  \"\\n\" for i in b[:10]])\n",
    "except IOError:\n",
    "    print(\"打开文件错误\")"
   ]
  },
  {
   "cell_type": "code",
   "execution_count": 67,
   "id": "f95204c7",
   "metadata": {},
   "outputs": [
    {
     "name": "stdout",
     "output_type": "stream",
     "text": [
      "{'小新': {'手机': 13913000001, 'QQ': 18191220001, '微信': 'xx9907'}, '小亮': {'手机': 13913000002, 'QQ': 18191220002}, '小刚': {'手机': 13913000003, 'QQ': 18191220003, '微信': 'gang1004'}, '大刘': {'手机': 13914000001, 'QQ': 18191230001, '微信': 'liu666'}, '大王': {'手机': 13914000002, 'QQ': 18191230002, '微信': 'jack_w'}, '大张': {'手机': 13914000003, 'QQ': 18191230003}}\n",
      "{'小新': {'手机': 13913000001, 'QQ': 18191220001, '微信': 'xx9907'}, '小亮': {'手机': 13913000002, 'QQ': 18191220002}, '小刚': {'手机': 13913000003, 'QQ': 18191220003, '微信': 'gang1004'}, '大刘': {'手机': 13914000001, 'QQ': 18191230001, '微信': 'liu666'}, '大王': {'手机': 13914000004, 'QQ': 18191230002, '微信': 'jack_w'}, '大张': {'手机': 13914000003, 'QQ': 18191230003}}\n",
      "请输入同学姓名查看其通讯信息\n",
      "王健\n",
      "通讯录没有此人\n"
     ]
    }
   ],
   "source": [
    "import csv\n",
    "a={\"小新\":{\"手机\":13913000001,\"QQ\":18191220001},\"小亮\":{\"手机\":13913000002,\"QQ\":18191220002},\"小刚\":{\"手机\":13913000003,\"QQ\":18191220003}}\n",
    "b={\"大刘\":{\"手机\":13914000001,\"QQ\":18191230001},\"大王\":{\"手机\":13914000002,\"QQ\":18191230002},\"大张\":{\"手机\":13914000003,\"QQ\":18191230003}}\n",
    "a=dict(a,**b)\n",
    "c={\"小新\":{\"微信\":\"xx9907\"},\"小刚\":{\"微信\":\"gang1004\"},\"大王\":{\"微信\":\"jack_w\"},\"大刘\":{\"微信\":\"liu666\"}}\n",
    "for i in c:\n",
    "    if i in a:\n",
    "        a[i][\"微信\"] = c[i][\"微信\"]\n",
    "    else:\n",
    "        print(\"原通讯录中无{}的信息\".format(i))\n",
    "print(a)\n",
    "for i in a:\n",
    "    if i == \"大王\":\n",
    "        a[i][\"手机\"]=13914000004\n",
    "print(a)\n",
    "with open (\"通信录.csv\",\"w\",newline=\"\") as data:\n",
    "    data = csv.writer(data)\n",
    "    for i in a:\n",
    "        if \"微信\" in a[i].keys():\n",
    "            data.writerow([i,\"手机号码：\",str(a[i][\"手机\"]),\"QQ：\",str(a[i][\"QQ\"]),\"微信：\",str(a[i][\"微信\"])])\n",
    "        else:\n",
    "            data.writerow([i,\"手机号码：\",str(a[i][\"手机\"]),\"QQ：\",str(a[i][\"QQ\"])])\n",
    "count=0\n",
    "b=input(\"请输入同学姓名查看其通讯信息\\n\")\n",
    "with open (\"通信录.csv\",\"r\") as data1:\n",
    "    reader = csv.reader(data1)\n",
    "    count=0\n",
    "    for i in reader:\n",
    "        if i[0] == b:\n",
    "            print(i)\n",
    "            count+=1\n",
    "    if count == 0:\n",
    "        print(\"通讯录没有此人\")"
   ]
  },
  {
   "cell_type": "code",
   "execution_count": 49,
   "id": "b16cf3ba",
   "metadata": {},
   "outputs": [
    {
     "name": "stdout",
     "output_type": "stream",
     "text": [
      "[('of', 1429), ('was', 1084), ('his', 992), ('said', 991), ('in', 864), ('Harry', 690), ('had', 587), ('at', 585), ('you', 535), ('it', 527), ('that', 506), ('as', 491), ('on', 472), ('I', 448), ('with', 408), ('for', 350), ('Ron', 325), ('out', 293), ('were', 277), ('all', 275)]\n"
     ]
    }
   ],
   "source": [
    "try:\n",
    "    with open(\"哈利波特.txt\",\"r\") as data:\n",
    "        data = str(data.readlines())\n",
    "        a={}\n",
    "        data = data.strip(\"\\n\")\n",
    "        data = data.split()\n",
    "        for i in data:\n",
    "            a[i] = a.get(i,0)+1\n",
    "        for j in [\"to\",\"he\",\"him\",\"and\",\"be\",\"the\",\"a\",\"'\\\\n',\",'-','-\"\\\\n\\',']:\n",
    "            del a[j]\n",
    "        a=sorted(a.items(), key = lambda x: (-x[1],x[0]))\n",
    "        print(a[:20])\n",
    "except IOError:\n",
    "    print(\"打开文件出错\\n\")\n",
    "else:\n",
    "    try:\n",
    "        with open (\"哈利波特词汇统计.txt\",\"w\") as data1:\n",
    "            data1.writelines(n +\"出现了\"+str(m) +\"次\\n\" for n,m in a)\n",
    "    except IOError:\n",
    "        print(\"文件创建出错\")"
   ]
  },
  {
   "cell_type": "code",
   "execution_count": null,
   "id": "8dab35f2",
   "metadata": {},
   "outputs": [],
   "source": []
  }
 ],
 "metadata": {
  "kernelspec": {
   "display_name": "Python 3",
   "language": "python",
   "name": "python3"
  },
  "language_info": {
   "codemirror_mode": {
    "name": "ipython",
    "version": 3
   },
   "file_extension": ".py",
   "mimetype": "text/x-python",
   "name": "python",
   "nbconvert_exporter": "python",
   "pygments_lexer": "ipython3",
   "version": "3.8.8"
  }
 },
 "nbformat": 4,
 "nbformat_minor": 5
}
