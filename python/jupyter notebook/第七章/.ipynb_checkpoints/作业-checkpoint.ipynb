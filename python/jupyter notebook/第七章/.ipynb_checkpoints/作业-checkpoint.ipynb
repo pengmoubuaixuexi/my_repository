{
 "cells": [
  {
   "cell_type": "code",
   "execution_count": 1,
   "id": "152f5de4",
   "metadata": {},
   "outputs": [
    {
     "name": "stdout",
     "output_type": "stream",
     "text": [
      "30\n"
     ]
    }
   ],
   "source": [
    "print(5+(2+3)**2)"
   ]
  },
  {
   "cell_type": "code",
   "execution_count": 4,
   "id": "19b35119",
   "metadata": {},
   "outputs": [
    {
     "name": "stdout",
     "output_type": "stream",
     "text": [
      "32\n"
     ]
    }
   ],
   "source": [
    "a=2;b=3\n",
    "print(2*a*(b+5))"
   ]
  },
  {
   "cell_type": "code",
   "execution_count": 5,
   "id": "9ac9d7fd",
   "metadata": {},
   "outputs": [
    {
     "data": {
      "text/plain": [
       "-1.0"
      ]
     },
     "execution_count": 5,
     "metadata": {},
     "output_type": "execute_result"
    }
   ],
   "source": [
    "import math\n",
    "a=1;b=6;c=5\n",
    "(-b+math.sqrt(b**2-4*a*c))/2*a"
   ]
  },
  {
   "cell_type": "code",
   "execution_count": 6,
   "id": "747406d9",
   "metadata": {},
   "outputs": [
    {
     "name": "stdout",
     "output_type": "stream",
     "text": [
      "3.5874230864353533\n"
     ]
    }
   ],
   "source": [
    "import math\n",
    "print(math.sqrt((math.pi)**2+3))"
   ]
  },
  {
   "cell_type": "code",
   "execution_count": 8,
   "id": "2ca2dd5e",
   "metadata": {},
   "outputs": [
    {
     "name": "stdout",
     "output_type": "stream",
     "text": [
      "2.8087755438614286\n"
     ]
    }
   ],
   "source": [
    "import math\n",
    "print(math.log((2*math.pi*math.sqrt(13+math.e)),math.pi))"
   ]
  },
  {
   "cell_type": "code",
   "execution_count": 1,
   "id": "a848c8ca",
   "metadata": {},
   "outputs": [
    {
     "name": "stdout",
     "output_type": "stream",
     "text": [
      "0.2846043493997208\n"
     ]
    }
   ],
   "source": [
    "from math import *\n",
    "print(1/(tan(log((pi+1),3))))"
   ]
  },
  {
   "cell_type": "code",
   "execution_count": 15,
   "id": "da828b80",
   "metadata": {},
   "outputs": [
    {
     "name": "stdout",
     "output_type": "stream",
     "text": [
      "您要存多少钱\n",
      "100\n",
      "要存几年的呢？我们的年利息是5%\n",
      "3\n",
      "3年后您得到的本息和是115.76\n"
     ]
    }
   ],
   "source": [
    "balance = eval(input(\"您要存多少钱\\n\"))\n",
    "n = int(input(\"要存几年的呢？我们的年利息是5%\\n\"))\n",
    "yearsOfBalance = 0.05\n",
    "for i in range(n):\n",
    "    balance *= (1+yearsOfBalance)\n",
    "print(\"{}年后您得到的本息和是{:.2f}\".format(n,balance))"
   ]
  },
  {
   "cell_type": "code",
   "execution_count": 21,
   "id": "0f084fdd",
   "metadata": {},
   "outputs": [
    {
     "name": "stdout",
     "output_type": "stream",
     "text": [
      "请输入球的半径\n",
      "3\n",
      "半径为3.00cm的球的表面积为113.10cm²体积为113.10cm³\n"
     ]
    }
   ],
   "source": [
    "from math import *\n",
    "r = eval(input(\"请输入球的半径\\n\"))\n",
    "print(\"半径为{:.2f}cm的球的表面积为{:.2f}cm²体积为{:.2f}cm³\".format(r,4*pi*(r**2),(4/3)*pi*(r**3)))"
   ]
  },
  {
   "cell_type": "code",
   "execution_count": 24,
   "id": "98c158db",
   "metadata": {},
   "outputs": [
    {
     "name": "stdout",
     "output_type": "stream",
     "text": [
      "请输入一串字符\n",
      "Hi,This is the first Python program\n",
      "35\n",
      "y\n",
      " \n",
      "HI,THIS IS THE FIRST PYTHON PROGRAM\n",
      "hi,this is the first python program\n",
      "hI,tHIS IS THE FIRST pYTHON PROGRAM\n",
      "Hi,This Is The First Python Program\n",
      "21\n"
     ]
    }
   ],
   "source": [
    "a=input(\"请输入一串字符\\n\")\n",
    "print(len(a))\n",
    "print(max(a))\n",
    "print(min(a))\n",
    "print(a.upper())\n",
    "print(a.lower())\n",
    "print(a.swapcase())\n",
    "print(a.title())\n",
    "print(a.find(\"Python\"))"
   ]
  },
  {
   "cell_type": "markdown",
   "id": "1e9856f3",
   "metadata": {},
   "source": [
    "Hi,This is the first Python program"
   ]
  },
  {
   "cell_type": "code",
   "execution_count": 12,
   "id": "4b8fb804",
   "metadata": {},
   "outputs": [
    {
     "name": "stdout",
     "output_type": "stream",
     "text": [
      "请输入要兑换的人民币币值以¥结束：\n",
      "123m\n",
      "你怎么没以¥结尾啊,准备重输吧\n",
      "请输入要兑换的人民币币值以¥结束：\n",
      "12m3\n",
      "请输入数字的字符串\n",
      "请输入要兑换的人民币币值以¥结束：\n",
      "123¥\n",
      "123.00元人民币可以兑换17.91的美元\n"
     ]
    }
   ],
   "source": [
    "for i in range(10):\n",
    "    RMB=input(\"请输入要兑换的人民币币值以¥结束：\\n\")\n",
    "    if RMB[0:-1].isdigit() == True:\n",
    "        if RMB[-1] == \"¥\":\n",
    "            RMB=int(RMB[0:-1])\n",
    "            print(\"{:.2f}元人民币可以兑换{:.2f}的美元\".format(RMB,RMB*0.1456))\n",
    "            break\n",
    "        else:\n",
    "            print(\"你怎么没以¥结尾啊,准备重输吧\")\n",
    "    else:\n",
    "        print(\"请输入数字的字符串\")"
   ]
  },
  {
   "cell_type": "code",
   "execution_count": null,
   "id": "d7d30d6b",
   "metadata": {},
   "outputs": [],
   "source": []
  }
 ],
 "metadata": {
  "kernelspec": {
   "display_name": "Python 3",
   "language": "python",
   "name": "python3"
  },
  "language_info": {
   "codemirror_mode": {
    "name": "ipython",
    "version": 3
   },
   "file_extension": ".py",
   "mimetype": "text/x-python",
   "name": "python",
   "nbconvert_exporter": "python",
   "pygments_lexer": "ipython3",
   "version": "3.8.8"
  }
 },
 "nbformat": 4,
 "nbformat_minor": 5
}
