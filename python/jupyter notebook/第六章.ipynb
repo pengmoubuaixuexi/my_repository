{
 "cells": [
  {
   "cell_type": "code",
   "execution_count": 22,
   "id": "e8346c9e",
   "metadata": {},
   "outputs": [
    {
     "name": "stdout",
     "output_type": "stream",
     "text": [
      "[2, 3, 5, 7, 11, 13, 17, 19, 23, 29, 31, 37, 41, 43, 47, 53, 59, 61, 67, 71, 73, 79, 83, 89, 97]\n",
      "[(3, 5), (5, 7), (11, 13), (17, 19), (29, 31), (41, 43), (59, 61), (71, 73)]\n",
      "4=2+2\n",
      "6=3+3\n",
      "8=3+5\n",
      "10=5+5\n",
      "10=3+7\n",
      "12=5+7\n",
      "14=7+7\n",
      "14=3+11\n",
      "16=5+11\n",
      "16=3+13\n",
      "18=7+11\n",
      "18=5+13\n"
     ]
    }
   ],
   "source": [
    "from math import *\n",
    "def sushu(n1,n2):\n",
    "    a=[]\n",
    "    for  i in range(n1,n2+1):\n",
    "        if i !=1:\n",
    "            flag = 0\n",
    "            for j in range(2,round(sqrt(i))+1):\n",
    "                if i % j == 0 :\n",
    "                    flag = 1\n",
    "            if flag == 0:\n",
    "                a.append(i)\n",
    "    return a\n",
    "a=sushu(1,100)\n",
    "b=[]\n",
    "for i in range(len(a)-1):\n",
    "    if a[i+1] - a[i] == 2:\n",
    "        b.append((a[i],a[i+1]))\n",
    "print(a)\n",
    "print(b)\n",
    "for i in range(4,20,2):\n",
    "    for j in a:\n",
    "        for k in range(a.index(j)+1):\n",
    "            if i == j+a[k] :\n",
    "                print(\"{0}={2}+{1}\".format(i,j,a[k]))"
   ]
  },
  {
   "cell_type": "code",
   "execution_count": 24,
   "id": "a9ffa985",
   "metadata": {},
   "outputs": [
    {
     "name": "stdout",
     "output_type": "stream",
     "text": [
      "([1, 23, 4], [12, 412])\n"
     ]
    }
   ],
   "source": [
    "def a(*b):\n",
    "    print(b)\n",
    "a([1,23,4],[12,412])"
   ]
  },
  {
   "cell_type": "code",
   "execution_count": 33,
   "id": "9017d23c",
   "metadata": {},
   "outputs": [
    {
     "name": "stdout",
     "output_type": "stream",
     "text": [
      "-1\n"
     ]
    }
   ],
   "source": [
    "f=lambda x:x<0\n",
    "list = [1,2,3,-1]\n",
    "for i in filter(f,list):\n",
    "    print(i)"
   ]
  },
  {
   "cell_type": "code",
   "execution_count": 40,
   "id": "ed6d0a67",
   "metadata": {},
   "outputs": [
    {
     "name": "stdout",
     "output_type": "stream",
     "text": [
      "abc\n"
     ]
    }
   ],
   "source": [
    "import time\n",
    "time.sleep = lambda x:None\n",
    "time.sleep(3)\n",
    "print(\"abc\")"
   ]
  },
  {
   "cell_type": "markdown",
   "id": "e6ee30c3",
   "metadata": {},
   "source": [
    "lambda函数的用法：https://zhuanlan.zhihu.com/p/67978661"
   ]
  },
  {
   "cell_type": "code",
   "execution_count": 58,
   "id": "cfec32ea",
   "metadata": {},
   "outputs": [
    {
     "name": "stdout",
     "output_type": "stream",
     "text": [
      "请输入长度为42的字符串\n",
      "\"your smile will Make my whole world Bright\n",
      "输入错误，请重新输入长度为42的字符串\n",
      "12ur smile will Make my whole world Bright\n",
      "正确率为95.24%\n"
     ]
    }
   ],
   "source": [
    "a=\"your smile will Make my whole world Bright\"\n",
    "b=input(\"请输入长度为{}的字符串\\n\".format(len(a)))\n",
    "for i in range(100):\n",
    "    if len(a) == len(b):\n",
    "        break\n",
    "    else:\n",
    "        b=input(\"输入错误，请重新输入长度为{}的字符串\\n\".format(len(a)))\n",
    "count=0\n",
    "for i in range(len(a)):\n",
    "    if a[i]==b[i]:\n",
    "        count+=1\n",
    "print(\"正确率为{:.2f}%\".format((count/len(a))*100))"
   ]
  },
  {
   "cell_type": "markdown",
   "id": "c0cff2e6",
   "metadata": {},
   "source": [
    " 文本:I have a dream today!I have a dream that one day every valley shall be exalted, and every hill and mountain shall be made low, the rough places will be made plain, and the crooked places will be made straight; “and the glory of the Lord shall be revealed and all flesh shall see it together.\" This is our hope, and this is the faith thatI go back to the South with. With this faith, we will be able to hew out of the mountain of despar astone of hope. With this faith, we will be able to transform the jangling discords of our nation Int a beautiful symphony of brotherhood. With this faith, we will be able to work together, to pray together, to struggle together, to go to jail together, to stand up for freedom together, knowing that we will be free one day."
   ]
  },
  {
   "cell_type": "code",
   "execution_count": 19,
   "id": "bb642c15",
   "metadata": {},
   "outputs": [
    {
     "name": "stdout",
     "output_type": "stream",
     "text": [
      "请输入一段英文文本：\n",
      "I have a dream today!I have a dream that one day every valley shall be exalted, and every hill and mountain shall be made low, the rough places will be made plain, and the crooked places will be made straight; “and the glory of the Lord shall be revealed and all flesh shall see it together.\" This is our hope, and this is the faith thatI go back to the South with. With this faith, we will be able to hew out of the mountain of despar astone of hope. With this faith, we will be able to transform the jangling discords of our nation Int a beautiful symphony of brotherhood. With this faith, we will be able to work together, to pray together, to struggle together, to go to jail together, to stand up for freedom together, knowing that we will be free one day.\n",
      "出现频率最高的前是个词是：\n",
      "together:6\n",
      "will:6\n",
      "this:5\n",
      "faith:4\n",
      "shall:4\n",
      "we:4\n",
      "with:4\n",
      "able:3\n",
      "made:3\n",
      "day:2\n"
     ]
    }
   ],
   "source": [
    "a=input(\"请输入一段英文文本：\\n\")\n",
    "for j in set(i for i in a if i.isalnum()==False and i !=\" \"):\n",
    "    a=a.replace(j,\" \")\n",
    "a=a.lower().split()\n",
    "b={}\n",
    "for i in a:\n",
    "    b[i] = b.get(i,0)+1\n",
    "del b[\"of\"],b[\"a\"],b[\"the\"],b[\"be\"],b[\"to\"],b[\"and\"]\n",
    "b=sorted(b.items(),key = lambda x :(-x[1],x[0]))\n",
    "print(\"出现频率最高的前是个词是：\")\n",
    "for i in range(10):\n",
    "    print(b[i][0]+\":\"+str(b[i][1]))"
   ]
  },
  {
   "cell_type": "code",
   "execution_count": 22,
   "id": "f985a153",
   "metadata": {},
   "outputs": [
    {
     "name": "stdout",
     "output_type": "stream",
     "text": [
      "Happy Birthday 小明\n",
      "Happy Birthday 小明\n",
      "Happy Birthday 小明\n",
      "Happy Birthday 小明\n",
      "Happy Birthday 小明\n",
      "Happy Birthday 小明\n",
      "Happy Birthday 小明\n",
      "Happy Birthday 小明\n",
      "Happy Birthday 小明\n",
      "Happy Birthday 小明\n"
     ]
    }
   ],
   "source": [
    "def showMsg(n,name):\n",
    "    for i in range(n):\n",
    "        print(\"Happy Birthday \"+str(name))\n",
    "showMsg(10,\"小明\")"
   ]
  },
  {
   "cell_type": "code",
   "execution_count": 26,
   "id": "f24e74ff",
   "metadata": {},
   "outputs": [
    {
     "name": "stdout",
     "output_type": "stream",
     "text": [
      "{'小李': 62, '小张': 77, '小陈': 87, '小杨': 73}\n",
      "{'小李': 65, '小张': 83, '小陈': 90, '小杨': 73}\n"
     ]
    }
   ],
   "source": [
    "def avg(a,b,c):\n",
    "    return int((a+b+c)/3)\n",
    "def avg1(lst):\n",
    "    return int(sum(lst)/len(lst))\n",
    "s={\"小李\":[77,54,57],\"小张\":[89,66,78],\"小陈\":[90,93,80],\"小杨\":[69,58,93]}\n",
    "s1={\"小李\":[77,54],\"小张\":[89,66,78,99],\"小陈\":[90],\"小杨\":[69,58,93]}\n",
    "for i in s1:\n",
    "    s1[i]=avg1(s1[i])\n",
    "for i in s:\n",
    "    s[i]=avg(s[i][0],s[i][1],s[i][2])\n",
    "print(s)\n",
    "print(s1)"
   ]
  },
  {
   "cell_type": "code",
   "execution_count": 54,
   "id": "8576bbf3",
   "metadata": {},
   "outputs": [
    {
     "name": "stdout",
     "output_type": "stream",
     "text": [
      "['03']\n",
      "[('01', 66.66, 200), ('02', 83.33, 250), ('03', 96.66, 290), ('04', 53.33, 160), ('05', 71.66, 215), ('06', 70.0, 210)]\n",
      "[('04', 160), ('01', 200), ('06', 210), ('05', 215), ('02', 250), ('03', 290)]\n"
     ]
    }
   ],
   "source": [
    "def a(lst):\n",
    "    b=[]\n",
    "    for i in lst:\n",
    "        count=0\n",
    "        for j in range(len(lst[i])):\n",
    "            if lst[i][j] >= 85:\n",
    "                count+=1\n",
    "        if count ==3:\n",
    "            b.append(i)\n",
    "    return b\n",
    "def b(lst):\n",
    "    b=[]\n",
    "    for i in lst:\n",
    "        b.append((i,(int((sum(lst[i])/len(lst[i]))*100))/100,sum(lst[i])))\n",
    "    return b\n",
    "def c(lst):\n",
    "    b=[]\n",
    "    for i in lst:\n",
    "        a=sum(lst[i])\n",
    "        b.append((i,a))\n",
    "    return b\n",
    "dict={\"01\":[67,88,45],\"02\":[97,68,85],\"03\":[97,98,95],\"04\":[67,48,45],\"05\":[82,58,75],\"06\":[96,49,65]}\n",
    "print(a(dict))\n",
    "print(b(dict))\n",
    "a = c(dict)\n",
    "print(sorted(a,key = lambda x : (x[1],x[0])))"
   ]
  },
  {
   "cell_type": "code",
   "execution_count": 57,
   "id": "eb503845",
   "metadata": {},
   "outputs": [
    {
     "name": "stdout",
     "output_type": "stream",
     "text": [
      "46499\n"
     ]
    }
   ],
   "source": [
    "def a(n):\n",
    "    if n==1 or n==2 or n==3:\n",
    "        return 1\n",
    "    else :\n",
    "        return (a(n-1)+a(n-2)+a(n-3))\n",
    "print (a(20))"
   ]
  },
  {
   "cell_type": "code",
   "execution_count": null,
   "id": "64bc47d1",
   "metadata": {},
   "outputs": [],
   "source": []
  }
 ],
 "metadata": {
  "kernelspec": {
   "display_name": "Python 3",
   "language": "python",
   "name": "python3"
  },
  "language_info": {
   "codemirror_mode": {
    "name": "ipython",
    "version": 3
   },
   "file_extension": ".py",
   "mimetype": "text/x-python",
   "name": "python",
   "nbconvert_exporter": "python",
   "pygments_lexer": "ipython3",
   "version": "3.8.8"
  }
 },
 "nbformat": 4,
 "nbformat_minor": 5
}
