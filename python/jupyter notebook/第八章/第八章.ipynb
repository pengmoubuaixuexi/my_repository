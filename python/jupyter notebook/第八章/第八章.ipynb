{
 "cells": [
  {
   "cell_type": "code",
   "execution_count": 23,
   "id": "1d08db31",
   "metadata": {},
   "outputs": [
    {
     "name": "stdout",
     "output_type": "stream",
     "text": [
      "['李元帅', '是', '计科系主任', '也', '是', '云计算', '方面', '的', '专家']\n",
      "['元帅', '李元帅', '是', '科系', '主任', '系主任', '计科系主任', '也', '是', '计算', '云计算', '方面', '的', '专家']\n",
      "[pair('洋洋', 'ns')]\n"
     ]
    }
   ],
   "source": [
    "#a 形容 d副词 n名词 p介词 v动词\n",
    "from jieba import *\n",
    "s=\"李元帅是计科系主任也是云计算方面的专家\"\n",
    "jieba.load_userdict(\"new.txt\")\n",
    "jieba.add_word(\"李元帅\")\n",
    "print(jieba.lcut(s))\n",
    "print(jieba.lcut_for_search(s))\n",
    "import jieba.posseg as psg\n",
    "text='''很多人不知道的是，金庸开始武侠小说的创作，是一次很偶然的机会。\n",
    "        1955年，《大公报》下一个晚报有个武侠小说写得很成功的年轻人，和金庸\n",
    "        是同事，他名叫梁羽生。那年梁羽生的武侠小说即将完结，而他的创作又到\n",
    "        了疲惫期，于是，报纸总编辑邀请金庸将武侠小说继续写下去。虽然此前\n",
    "        从未写过小说，但凭借他对武侠小说的了解与喜爱，金庸还是答应接替梁羽生\n",
    "        的任务。他把自己名字中的镛字拆开，做了一个笔名，《书剑恩仇录》正是\n",
    "        他的第一部武侠作品，作品一炮而红。此书成功之后，金庸又在短短的几年\n",
    "        内创作了《碧血剑》《雪山飞狐》和《射雕英雄传》等作品，一时间风靡全港。\n",
    "        十余年间，他写下15部洋洋大作。'''\n",
    "seg = psg.lcut(text)\n",
    "seg = [i for i in seg if i.flag == \"ns\" ]\n",
    "print(seg)\n"
   ]
  },
  {
   "cell_type": "code",
   "execution_count": 36,
   "id": "c69e08ba",
   "metadata": {},
   "outputs": [
    {
     "name": "stdout",
     "output_type": "stream",
     "text": [
      "金庸        weight :0.67\n",
      "武侠小说      weight :0.64\n",
      "梁羽生       weight :0.50\n",
      "创作        weight :0.22\n",
      "作品        weight :0.21\n",
      "恩仇录       weight :0.17\n",
      "一炮而红      weight :0.17\n",
      "书剑        weight :0.16\n",
      "雪山飞狐      weight :0.16\n",
      "射雕        weight :0.15\n",
      "['作品', '邀请', '答应', '喜爱', '继续', '洋洋']\n",
      "Help on method textrank in module jieba.analyse.textrank:\n",
      "\n",
      "textrank(sentence, topK=20, withWeight=False, allowPOS=('ns', 'n', 'vn', 'v'), withFlag=False) method of jieba.analyse.textrank.TextRank instance\n",
      "    Extract keywords from sentence using TextRank algorithm.\n",
      "    Parameter:\n",
      "        - topK: return how many top keywords. `None` for all possible words.\n",
      "        - withWeight: if True, return a list of (word, weight);\n",
      "                      if False, return a list of words.\n",
      "        - allowPOS: the allowed POS list eg. ['ns', 'n', 'vn', 'v'].\n",
      "                    if the POS of w is not in this list, it will be filtered.\n",
      "        - withFlag: if True, return a list of pair(word, weight) like posseg.cut\n",
      "                    if False, return a list of words\n",
      "\n",
      "None\n"
     ]
    }
   ],
   "source": [
    "text='''很多人不知道的是，金庸开始武侠小说的创作，是一次很偶然的机会。\n",
    "        1955年，《大公报》下一个晚报有个武侠小说写得很成功的年轻人，和金庸\n",
    "        是同事，他名叫梁羽生。那年梁羽生的武侠小说即将完结，而他的创作又到\n",
    "        了疲惫期，于是，报纸总编辑邀请金庸将武侠小说继续写下去。虽然此前\n",
    "        从未写过小说，但凭借他对武侠小说的了解与喜爱，金庸还是答应接替梁羽生\n",
    "        的任务。他把自己名字中的镛字拆开，做了一个笔名，《书剑恩仇录》正是\n",
    "        他的第一部武侠作品，作品一炮而红。此书成功之后，金庸又在短短的几年\n",
    "        内创作了《碧血剑》《雪山飞狐》和《射雕英雄传》等作品，一时间风靡全港。\n",
    "        十余年间，他写下15部洋洋大作。'''\n",
    "from jieba import analyse\n",
    "keywords = analyse.extract_tags(text,topK = 10,withWeight = True)\n",
    "for i in keywords:\n",
    "    print(\"{:<10}weight :{:4.2f}\".format(i[0],i[1]))\n",
    "keywords = analyse.textrank(text,topK = 6)\n",
    "print(keywords)\n",
    "print(help(analyse.textrank))"
   ]
  },
  {
   "cell_type": "code",
   "execution_count": 16,
   "id": "2695fbc1",
   "metadata": {},
   "outputs": [
    {
     "name": "stdout",
     "output_type": "stream",
     "text": [
      "{'金庸': 7, '武侠小说': 6, '梁羽生': 5, '创作': 2, '作品': 2, '恩仇录': 2, '一炮而红': 2, '书剑': 2, '雪山飞狐': 2, '射雕': 1, '1955': 1, '有个': 1, '碧血剑': 1, '15': 1, '写下去': 1, '洋洋': 1, '武侠': 1, '英雄传': 1, '全港': 1, '成功': 1}\n",
      "结束\n"
     ]
    }
   ],
   "source": [
    "import wordcloud \n",
    "import random\n",
    "import string\n",
    "import jieba\n",
    "from jieba import analyse\n",
    "text='''很多人不知道的是，金庸开始武侠小说的创作，是一次很偶然的机会。\n",
    "        1955年，《大公报》下一个晚报有个武侠小说写得很成功的年轻人，和金庸\n",
    "        是同事，他名叫梁羽生。那年梁羽生的武侠小说即将完结，而他的创作又到\n",
    "        了疲惫期，于是，报纸总编辑邀请金庸将武侠小说继续写下去。虽然此前\n",
    "        从未写过小说，但凭借他对武侠小说的了解与喜爱，金庸还是答应接替梁羽生\n",
    "        的任务。他把自己名字中的镛字拆开，做了一个笔名，《书剑恩仇录》正是\n",
    "        他的第一部武侠作品，作品一炮而红。此书成功之后，金庸又在短短的几年\n",
    "        内创作了《碧血剑》《雪山飞狐》和《射雕英雄传》等作品，一时间风靡全港。\n",
    "        十余年间，他写下15部洋洋大作。'''\n",
    "text=analyse.extract_tags(text,topK=20,withWeight = True)\n",
    "b={}\n",
    "a=[random.randint(0,50) for i in range(26) ]\n",
    "c = [x for x in string.ascii_uppercase]\n",
    "d={x[0]:x[1] for x in zip(c,a)}\n",
    "for i in text:\n",
    "    b[i[0]] = round(i[1]*10)\n",
    "print(b)\n",
    "w=wordcloud.WordCloud(font_path = 'C:\\Windows\\Fonts\\simhei.ttf',background_color = \"white\").fit_words(b)\n",
    "w.to_file(\"词云.png\")\n",
    "print(\"结束\")\n",
    "\n"
   ]
  },
  {
   "cell_type": "code",
   "execution_count": null,
   "id": "28594f93",
   "metadata": {},
   "outputs": [],
   "source": []
  },
  {
   "cell_type": "code",
   "execution_count": null,
   "id": "f8738350",
   "metadata": {},
   "outputs": [],
   "source": []
  }
 ],
 "metadata": {
  "kernelspec": {
   "display_name": "Python 3",
   "language": "python",
   "name": "python3"
  },
  "language_info": {
   "codemirror_mode": {
    "name": "ipython",
    "version": 3
   },
   "file_extension": ".py",
   "mimetype": "text/x-python",
   "name": "python",
   "nbconvert_exporter": "python",
   "pygments_lexer": "ipython3",
   "version": "3.8.8"
  }
 },
 "nbformat": 4,
 "nbformat_minor": 5
}
