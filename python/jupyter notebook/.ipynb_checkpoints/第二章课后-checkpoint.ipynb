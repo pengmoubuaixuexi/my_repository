{
 "cells": [
  {
   "cell_type": "code",
   "execution_count": 11,
   "id": "4863644c",
   "metadata": {},
   "outputs": [
    {
     "name": "stdout",
     "output_type": "stream",
     "text": [
      "请输入一个数字123\n",
      "321\n"
     ]
    }
   ],
   "source": [
    "a=input(\"请输入一个数字\")\n",
    "list(a)\n",
    "a=a[::-1]\n",
    "print(a)"
   ]
  },
  {
   "cell_type": "markdown",
   "id": "9dd9ee42",
   "metadata": {},
   "source": [
    "http://sports.sina.com.cn/"
   ]
  },
  {
   "cell_type": "code",
   "execution_count": 10,
   "id": "ffae8239",
   "metadata": {},
   "outputs": [
    {
     "name": "stdout",
     "output_type": "stream",
     "text": [
      "请输入一串字符\n",
      "http://sports.sina.com.cn/\n",
      "t出现了3次\n",
      "19\n",
      "http://sports-sina-com-cn/\n",
      "http://sports.sina.com.cn/\n",
      "sport\n",
      "sina\n",
      "26\n",
      "http://sports.sina.com.cn/index\n"
     ]
    }
   ],
   "source": [
    "a=input(\"请输入一串字符\\n\")\n",
    "count=0\n",
    "count1=0\n",
    "for i in a:\n",
    "    count1+=1\n",
    "    if i == 't':\n",
    "        count+=1\n",
    "print(\"t出现了{}次\".format(count))\n",
    "b=a.find(\"com\")\n",
    "print(b)\n",
    "c=a.replace(\".\",\"-\")\n",
    "print(c)\n",
    "print(a)\n",
    "d=a[7:12]\n",
    "d2=a[-12:-8]\n",
    "print(d)\n",
    "print(d2)\n",
    "a1=a.upper()\n",
    "print(count1)\n",
    "a=a+'index'\n",
    "print(a)"
   ]
  },
  {
   "cell_type": "code",
   "execution_count": null,
   "id": "fc2a195a",
   "metadata": {},
   "outputs": [],
   "source": []
  }
 ],
 "metadata": {
  "kernelspec": {
   "display_name": "Python 3",
   "language": "python",
   "name": "python3"
  },
  "language_info": {
   "codemirror_mode": {
    "name": "ipython",
    "version": 3
   },
   "file_extension": ".py",
   "mimetype": "text/x-python",
   "name": "python",
   "nbconvert_exporter": "python",
   "pygments_lexer": "ipython3",
   "version": "3.8.8"
  }
 },
 "nbformat": 4,
 "nbformat_minor": 5
}
