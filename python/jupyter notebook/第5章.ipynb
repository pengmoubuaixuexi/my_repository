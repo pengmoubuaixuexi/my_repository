{
 "cells": [
  {
   "cell_type": "code",
   "execution_count": 33,
   "id": "036af73b",
   "metadata": {},
   "outputs": [
    {
     "name": "stdout",
     "output_type": "stream",
     "text": [
      "请输入一句英文\"俄罗斯\":\"莫斯科\",\"加拿大\":\"渥太华\",\"中国\":\"比较\",\"美国\":\"华盛顿\",\"巴西\":\"巴西利亚\"\n",
      "{'\"': 20, '俄': 1, '罗': 1, '斯': 2, ':': 5, '莫': 1, '科': 1, ',': 4, '加': 1, '拿': 1, '大': 1, '渥': 1, '太': 1, '华': 2, '中': 1, '国': 2, '比': 1, '较': 1, '美': 1, '盛': 1, '顿': 1, '巴': 2, '西': 2, '利': 1, '亚': 1}\n"
     ]
    }
   ],
   "source": [
    "a= input(\"请输入一句英文\")\n",
    "count={}\n",
    "for i in a:\n",
    "    count[i]=count.get(i,0)+1\n",
    "print(count)"
   ]
  },
  {
   "cell_type": "code",
   "execution_count": 36,
   "id": "662cc0c2",
   "metadata": {
    "scrolled": true
   },
   "outputs": [
    {
     "name": "stdout",
     "output_type": "stream",
     "text": [
      "{'彭涛': '帅', '黄河晓': '爱学', '王健': '爱玩', '唐玉杰': '认真'}\n",
      "{'彭涛': '帅', '黄河晓': '爱学', '王健': '爱玩', '唐玉杰': '认真'}\n",
      "{'彭涛': '帅', '黄河晓': '爱学', '王健': '爱玩', '唐玉杰': '认真'}\n"
     ]
    }
   ],
   "source": [
    "a={\"彭涛\":\"帅\",\"黄河晓\":\"爱学\"}\n",
    "b={\"王健\":\"爱玩\",\"唐玉杰\":\"认真\"}\n",
    "c=dict(list(a.items())+list(b.items()))\n",
    "print(c)\n",
    "print(dict(a,**b))\n",
    "a.update(b)\n",
    "print(a)"
   ]
  },
  {
   "cell_type": "code",
   "execution_count": 40,
   "id": "bb478649",
   "metadata": {},
   "outputs": [
    {
     "name": "stdout",
     "output_type": "stream",
     "text": [
      "{'俄罗斯': ('莫斯科', 1707.5), '加拿大': ('渥太华', 997.1), '中国': ('北京', 960.1), '美国': ('华盛顿', 936.4), '巴西': ('巴西利亚', 854.7)}\n"
     ]
    }
   ],
   "source": [
    "a1={\"俄罗斯\":\"莫斯科\",\"加拿大\":\"渥太华\",\"中国\":\"北京\",\"美国\":\"华盛顿\",\"巴西\":\"巴西利亚\"}\n",
    "a2={\"俄罗斯\":1707.5,\"加拿大\":997.1,\"中国\":960.1,\"美国\":936.4,\"巴西\":854.7}\n",
    "a3={}\n",
    "for i in a1.keys():\n",
    "    a3[i]=(a1[i],a2[i])\n",
    "print(a3)"
   ]
  },
  {
   "cell_type": "code",
   "execution_count": 47,
   "id": "8b7b72fe",
   "metadata": {},
   "outputs": [
    {
     "name": "stdout",
     "output_type": "stream",
     "text": [
      "[1, 2, 3, 4, 5]\n",
      "{1, 2, 3, 4, 5, 6, 8, 10}\n",
      "{1, 2, 3, 4, 5, 6, 8, 10}\n",
      "1 2 3 4 5 "
     ]
    }
   ],
   "source": [
    "a={1,2,3,4,5}\n",
    "b={2,4,6,8,10}\n",
    "a1=list(a)\n",
    "print(a1)\n",
    "print(a|b)\n",
    "print(a.union(b))\n",
    "for i in a:\n",
    "    print(i,end=\" \")"
   ]
  },
  {
   "cell_type": "code",
   "execution_count": 51,
   "id": "a1b5b3c3",
   "metadata": {},
   "outputs": [
    {
     "name": "stdout",
     "output_type": "stream",
     "text": [
      "李明\n",
      "许可\n",
      "王小小\n",
      "陈心\n",
      "总共有男生个数：2\n",
      "总共有女生个数：4\n"
     ]
    }
   ],
   "source": [
    "x={\"李明\":(\"男\",19),\"杨柳\":(\"女\",18),\"张一凡\":(\"男\",18),\"许可\":(\"女\",20),\"王小小\":(\"女\",19),\"陈心\":(\"女\",19)}\n",
    "countNan=0\n",
    "countNv=0\n",
    "for i in x.keys():\n",
    "    if x[i][0] == \"男\":\n",
    "        countNan+=1\n",
    "        if x[i][1] > 18:\n",
    "            print(i)\n",
    "    if x[i][0] ==\"女\":\n",
    "        countNv+=1\n",
    "        if x[i][1] > 18:\n",
    "            print(i)\n",
    "print(\"总共有男生个数：{}\".format(countNan))\n",
    "print(\"总共有女生个数：{}\".format(countNv))"
   ]
  },
  {
   "cell_type": "code",
   "execution_count": 5,
   "id": "cb69037f",
   "metadata": {},
   "outputs": [
    {
     "name": "stdout",
     "output_type": "stream",
     "text": [
      "{'小新': {'手机': 13913000001, 'QQ': 18191220001, '微信': 'xx9907'}, '小亮': {'手机': 13913000002, 'QQ': 18191220002}, '小刚': {'手机': 13913000003, 'QQ': 18191220003, '微信': 'gang1004'}, '大刘': {'手机': 13914000001, 'QQ': 18191230001, '微信': 'liu666'}, '大王': {'手机': 13914000002, 'QQ': 18191230002, '微信': 'jack_w'}, '大张': {'手机': 13914000003, 'QQ': 18191230003}}\n",
      "{'小新': {'手机': 13913000001, 'QQ': 18191220001, '微信': 'xx9907'}, '小亮': {'手机': 13913000002, 'QQ': 18191220002}, '小刚': {'手机': 13913000003, 'QQ': 18191220003, '微信': 'gang1004'}, '大刘': {'手机': 13914000001, 'QQ': 18191230001, '微信': 'liu666'}, '大王': {'手机': 13914000004, 'QQ': 18191230002, '微信': 'jack_w'}, '大张': {'手机': 13914000003, 'QQ': 18191230003}}\n",
      "请输入同学姓名查看其通讯信息\n",
      "黄河晓\n",
      "没有该同学的联系方式\n"
     ]
    }
   ],
   "source": [
    "a={\"小新\":{\"手机\":13913000001,\"QQ\":18191220001},\"小亮\":{\"手机\":13913000002,\"QQ\":18191220002},\"小刚\":{\"手机\":13913000003,\"QQ\":18191220003}}\n",
    "b={\"大刘\":{\"手机\":13914000001,\"QQ\":18191230001},\"大王\":{\"手机\":13914000002,\"QQ\":18191230002},\"大张\":{\"手机\":13914000003,\"QQ\":18191230003}}\n",
    "a=dict(a,**b)\n",
    "c={\"小新\":{\"微信\":\"xx9907\"},\"小刚\":{\"微信\":\"gang1004\"},\"大王\":{\"微信\":\"jack_w\"},\"大刘\":{\"微信\":\"liu666\"}}\n",
    "for i in c:\n",
    "    if i in a:\n",
    "        a[i][\"微信\"] = c[i][\"微信\"]\n",
    "    else:\n",
    "        print(\"原通讯录中无{}的信息\".format(i))\n",
    "print(a)\n",
    "for i in a:\n",
    "    if i == \"大王\":\n",
    "        a[i][\"手机\"]=13914000004\n",
    "print(a)\n",
    "count=0\n",
    "b=input(\"请输入同学姓名查看其通讯信息\\n\")\n",
    "for i in a:\n",
    "    if b == i:\n",
    "        print(a[i])\n",
    "        count=1\n",
    "if count == 0:\n",
    "    print(\"没有该同学的联系方式\")"
   ]
  },
  {
   "cell_type": "code",
   "execution_count": 12,
   "id": "c3845656",
   "metadata": {},
   "outputs": [
    {
     "name": "stdout",
     "output_type": "stream",
     "text": [
      "有12位同学没选课\n",
      "选修两节课的有3个,三节课的有1个,一节课的有9个\n"
     ]
    }
   ],
   "source": [
    "a={\"一号\":{\"李雷\",\"张玉\",\"王晓刚\",\"陈红静\",\"方向\",\"司马清\"}}\n",
    "b={\"二号\":{\"施然\",\"李芳芳\",\"刘潇\",\"方向\",\"孙一航\",\"黄煌\"}}\n",
    "c={\"三号\":{\"陈红静\",\"方向\",\"刘培良\",\"张玉\",\"施小冉\",\"司马清\"}}\n",
    "d=a[\"一号\"]|b[\"二号\"]|c[\"三号\"]\n",
    "print(\"有{}位同学没选课\".format(25-len(d)))\n",
    "d={}\n",
    "for i in a[\"一号\"]:\n",
    "    d[i]=d.get(i,0)+1\n",
    "for i in b[\"二号\"]:\n",
    "    d[i]=d.get(i,0)+1\n",
    "for i in c[\"三号\"]:\n",
    "    d[i]=d.get(i,0)+1\n",
    "count1=count2=count3=0\n",
    "for i in d:\n",
    "    if d[i] == 1:\n",
    "        count1+=1\n",
    "    if d[i] == 2:\n",
    "        count2+=1\n",
    "    if d[i] == 3:\n",
    "        count3+=1\n",
    "print(\"选修两节课的有{}个,三节课的有{}个,一节课的有{}个\".format(count2,count3,count1))"
   ]
  },
  {
   "cell_type": "code",
   "execution_count": null,
   "id": "bffb69b3",
   "metadata": {},
   "outputs": [],
   "source": []
  }
 ],
 "metadata": {
  "kernelspec": {
   "display_name": "Python 3",
   "language": "python",
   "name": "python3"
  },
  "language_info": {
   "codemirror_mode": {
    "name": "ipython",
    "version": 3
   },
   "file_extension": ".py",
   "mimetype": "text/x-python",
   "name": "python",
   "nbconvert_exporter": "python",
   "pygments_lexer": "ipython3",
   "version": "3.8.8"
  }
 },
 "nbformat": 4,
 "nbformat_minor": 5
}
