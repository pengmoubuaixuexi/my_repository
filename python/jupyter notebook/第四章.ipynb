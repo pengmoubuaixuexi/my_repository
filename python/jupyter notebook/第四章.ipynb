{
 "cells": [
  {
   "cell_type": "code",
   "execution_count": 2,
   "id": "5d53590f",
   "metadata": {},
   "outputs": [
    {
     "name": "stdout",
     "output_type": "stream",
     "text": [
      "[1, 2, 3, 4, 1, 6, 7, 8]\n"
     ]
    }
   ],
   "source": [
    "print([1,2,3,4]+[1,6,7,8])"
   ]
  },
  {
   "cell_type": "code",
   "execution_count": 24,
   "id": "ff26fc2d",
   "metadata": {},
   "outputs": [
    {
     "name": "stdout",
     "output_type": "stream",
     "text": [
      "[54, 36, 75, 66, 50, 42]\n",
      "[75, 66, 54, 50, 42, 36]\n",
      "[]\n"
     ]
    }
   ],
   "source": [
    "I=[54,36,75,28,50]\n",
    "I.append(42)\n",
    "I.insert(I.index(28),66)\n",
    "I.pop(I.index(28))\n",
    "print(I)\n",
    "I=sorted(I,reverse=True)\n",
    "print(I)\n",
    "del I[:]\n",
    "print(I)"
   ]
  },
  {
   "cell_type": "code",
   "execution_count": 29,
   "id": "e04df747",
   "metadata": {},
   "outputs": [
    {
     "name": "stdout",
     "output_type": "stream",
     "text": [
      "[0, 3, 6, 9, 12, 15, 18, 21, 24, 27, 30, 33, 36, 39, 42, 45, 48, 51, 54, 57, 60, 63, 66, 69, 72, 75, 78, 81, 84, 87, 90, 93, 96, 99]\n"
     ]
    }
   ],
   "source": [
    "print([ i for i in range(100) if i % 3==0])"
   ]
  },
  {
   "cell_type": "code",
   "execution_count": 35,
   "id": "d46b54d0",
   "metadata": {},
   "outputs": [
    {
     "name": "stdout",
     "output_type": "stream",
     "text": [
      "67.33\n",
      "(2013, 76)\n"
     ]
    }
   ],
   "source": [
    "I=[(2006,57),(2007,56),(2008,57),(2009,62),(2010,69),(2011,72),(2012,75),(2013,76),(2014,74.3),(2015,75)]\n",
    "sum=0\n",
    "for i in range(10):\n",
    "    sum+=I[i][1]\n",
    "avg = sum/len(I)\n",
    "print(avg)\n",
    "print(max(I,key = lambda x: (x[1],x[0])))"
   ]
  },
  {
   "cell_type": "code",
   "execution_count": null,
   "id": "48b60dce",
   "metadata": {},
   "outputs": [],
   "source": [
    "hello world my name is pengtao "
   ]
  },
  {
   "cell_type": "code",
   "execution_count": 2,
   "id": "042089a1",
   "metadata": {},
   "outputs": [
    {
     "name": "stdout",
     "output_type": "stream",
     "text": [
      "一句英语hello world my name is pengtao \n",
      "pengtao\n"
     ]
    }
   ],
   "source": [
    "a = input (\"一句英语\").split()\n",
    "print(max(a,key = lambda x:len(x)))\n"
   ]
  },
  {
   "cell_type": "code",
   "execution_count": 42,
   "id": "a8c4b15b",
   "metadata": {},
   "outputs": [
    {
     "name": "stdout",
     "output_type": "stream",
     "text": [
      "[2985, 3014, 3323, 3876, 2977, 3520, 2172, 2521, 1009, 2390, 3890, 3969, 1788, 1170, 3295, 3287, 1970, 4594, 3948, 3503]\n",
      "[0, 0, 0, 0, 0, 0, 0, 0, 0, 0, 0, 0, 0, 0, 0, 0, 0, 0, 0, 0]\n",
      "3323不能被10以内的素数整除\n",
      "2977不能被10以内的素数整除\n",
      "2521不能被10以内的素数整除\n",
      "1009不能被10以内的素数整除\n",
      "3287不能被10以内的素数整除\n",
      "3503不能被10以内的素数整除\n"
     ]
    }
   ],
   "source": [
    "import random\n",
    "i=[ random.randrange(1000,5000) for i in range(20)]\n",
    "a = [0]*20\n",
    "print(i)\n",
    "print(a)\n",
    "for n in range(20):\n",
    "    for j in [2,3,5,7]:\n",
    "        if i[n] % j ==0:\n",
    "            a[n]+=1\n",
    "    if a[n] ==0:\n",
    "        print(str(i[n])+\"不能被10以内的素数整除\")"
   ]
  },
  {
   "cell_type": "code",
   "execution_count": 3,
   "id": "67669fee",
   "metadata": {},
   "outputs": [
    {
     "name": "stdout",
     "output_type": "stream",
     "text": [
      "三千米的\n",
      "('王平', '男', '1', '1', '0', '0')\n",
      "女的\n",
      "('李丽', '女', '0', '1', '0', '1')\n",
      "三千米的\n",
      "('李丽', '女', '0', '1', '0', '1')\n",
      "女的\n",
      "('陈晓梅', '女', '0', '0', '1', '0')\n",
      "三千米的\n",
      "('孙洪涛', '男', '0', '1', '1', '1')\n",
      "4\n"
     ]
    }
   ],
   "source": [
    "a=[(\"姓名\",\"性别\",\"100m\",\"3000m\",\"跳远\",\"跳高\"),(\"王平\",\"男\",\"1\",\"1\",\"0\",\"0\"),(\"李丽\",\"女\",\"0\",\"1\",\"0\",\"1\"),(\"陈晓梅\",\"女\",\"0\",\"0\",\"1\",\"0\"),\n",
    "   (\"孙洪涛\",\"男\",\"0\",\"1\",\"1\",\"1\"),(\"方亮\",\"男\",\"1\",\"0\",\"1\",\"0\")]\n",
    "count=0\n",
    "for i in a:\n",
    "    if(i[2]==\"1\" or i[2]== \"0\"):\n",
    "        if( int(i[2])+int(i[3])+int(i[4])+int(i[5])>=2 ):\n",
    "            count+=1\n",
    "    if(i[1]==\"女\"):\n",
    "        print(\"女的\")\n",
    "        print(i)\n",
    "    if(i[3]==\"1\"):\n",
    "        print(\"三千米的\")\n",
    "        print(i)\n",
    "print(count)"
   ]
  },
  {
   "cell_type": "code",
   "execution_count": null,
   "id": "1160ab65",
   "metadata": {},
   "outputs": [],
   "source": []
  }
 ],
 "metadata": {
  "kernelspec": {
   "display_name": "Python 3",
   "language": "python",
   "name": "python3"
  },
  "language_info": {
   "codemirror_mode": {
    "name": "ipython",
    "version": 3
   },
   "file_extension": ".py",
   "mimetype": "text/x-python",
   "name": "python",
   "nbconvert_exporter": "python",
   "pygments_lexer": "ipython3",
   "version": "3.8.8"
  }
 },
 "nbformat": 4,
 "nbformat_minor": 5
}
