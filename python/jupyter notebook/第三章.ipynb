{
 "cells": [
  {
   "cell_type": "code",
   "execution_count": 8,
   "id": "f9a422d2",
   "metadata": {},
   "outputs": [
    {
     "name": "stdout",
     "output_type": "stream",
     "text": [
      "2   3   5   7   11  13  17  19  23  29  31  37  41  43  47  53  59  61  67  71  73  79  83  89  97  101 103 107 109 113 127 131 137 139 149 151 157 163 167 173 179 181 191 193 197 199 211 223 227 229 233 239 241 251 257 263 269 271 277 281 283 293 "
     ]
    }
   ],
   "source": [
    "for n in range (2,300):\n",
    "    for i in range(2,n):\n",
    "        if n %i ==0:\n",
    "            break\n",
    "    else:\n",
    "        print(\"{:<4}\".format(n),end=\"\")"
   ]
  },
  {
   "cell_type": "code",
   "execution_count": 17,
   "id": "7072e856",
   "metadata": {},
   "outputs": [
    {
     "name": "stdout",
     "output_type": "stream",
     "text": [
      "[4]\n"
     ]
    }
   ],
   "source": [
    "import random\n",
    "print(random.sample(list([1,2,3,4]),1))"
   ]
  },
  {
   "cell_type": "code",
   "execution_count": 2,
   "id": "c6f9292e",
   "metadata": {},
   "outputs": [
    {
     "name": "stdout",
     "output_type": "stream",
     "text": [
      "请输入n\n",
      "198\n",
      "187\n"
     ]
    }
   ],
   "source": [
    "a= int(input(\"请输入n\\n\"))\n",
    "for i in range(a,0,-1):\n",
    "    if i % 17 == 0:\n",
    "        print(i)\n",
    "        break"
   ]
  },
  {
   "cell_type": "code",
   "execution_count": 15,
   "id": "f3b81f64",
   "metadata": {},
   "outputs": [
    {
     "name": "stdout",
     "output_type": "stream",
     "text": [
      "34，3，93的最大公约数是1，最小公倍数是3162\n"
     ]
    }
   ],
   "source": [
    "import random\n",
    "a=random.randrange(1,100)\n",
    "b=random.randrange(1,100)\n",
    "c=random.randrange(1,100)\n",
    "for i in range(max(a,b,c),a*b*c):\n",
    "    if i % a ==0 and i % b == 0 and i %c == 0:\n",
    "        d=i\n",
    "        break\n",
    "for i in range(min(a,b,c),0,-1):\n",
    "    if a % i ==0 and b % i == 0 and c % i == 0:\n",
    "        print(\"{}，{}，{}的最大公约数是{}，最小公倍数是{}\".format(a,b,c,i,d))\n",
    "        break"
   ]
  },
  {
   "cell_type": "code",
   "execution_count": null,
   "id": "b145a92a",
   "metadata": {},
   "outputs": [],
   "source": []
  }
 ],
 "metadata": {
  "kernelspec": {
   "display_name": "Python 3",
   "language": "python",
   "name": "python3"
  },
  "language_info": {
   "codemirror_mode": {
    "name": "ipython",
    "version": 3
   },
   "file_extension": ".py",
   "mimetype": "text/x-python",
   "name": "python",
   "nbconvert_exporter": "python",
   "pygments_lexer": "ipython3",
   "version": "3.8.8"
  }
 },
 "nbformat": 4,
 "nbformat_minor": 5
}
